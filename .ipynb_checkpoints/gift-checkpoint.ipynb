{
 "cells": [
  {
   "cell_type": "code",
   "execution_count": 6,
   "id": "99700a42-a471-4ca8-ac19-b94a04852f6c",
   "metadata": {},
   "outputs": [],
   "source": [
    "import pandas as pd\n",
    "from sklearn.feature_extraction.text import TfidfVectorizer\n",
    "from sklearn.metrics.pairwise import cosine_similarity\n",
    "import openai\n",
    "from flask import Flask, request, jsonify"
   ]
  },
  {
   "cell_type": "code",
   "execution_count": 7,
   "id": "de2aa5e7-67a4-470d-86a7-b7c8e3a15bd6",
   "metadata": {},
   "outputs": [
    {
     "data": {
      "text/html": [
       "<div>\n",
       "<style scoped>\n",
       "    .dataframe tbody tr th:only-of-type {\n",
       "        vertical-align: middle;\n",
       "    }\n",
       "\n",
       "    .dataframe tbody tr th {\n",
       "        vertical-align: top;\n",
       "    }\n",
       "\n",
       "    .dataframe thead th {\n",
       "        text-align: right;\n",
       "    }\n",
       "</style>\n",
       "<table border=\"1\" class=\"dataframe\">\n",
       "  <thead>\n",
       "    <tr style=\"text-align: right;\">\n",
       "      <th></th>\n",
       "      <th>index</th>\n",
       "      <th>product</th>\n",
       "      <th>category</th>\n",
       "      <th>sub_category</th>\n",
       "      <th>brand</th>\n",
       "      <th>sale_price</th>\n",
       "      <th>market_price</th>\n",
       "      <th>type</th>\n",
       "      <th>rating</th>\n",
       "      <th>description</th>\n",
       "    </tr>\n",
       "  </thead>\n",
       "  <tbody>\n",
       "    <tr>\n",
       "      <th>0</th>\n",
       "      <td>1</td>\n",
       "      <td>Garlic Oil - Vegetarian Capsule 500 mg</td>\n",
       "      <td>Beauty &amp; Hygiene</td>\n",
       "      <td>Hair Care</td>\n",
       "      <td>Sri Sri Ayurveda</td>\n",
       "      <td>220.0</td>\n",
       "      <td>220.0</td>\n",
       "      <td>Hair Oil &amp; Serum</td>\n",
       "      <td>4.1</td>\n",
       "      <td>This Product contains Garlic Oil that is known...</td>\n",
       "    </tr>\n",
       "    <tr>\n",
       "      <th>1</th>\n",
       "      <td>2</td>\n",
       "      <td>Water Bottle - Orange</td>\n",
       "      <td>Kitchen, Garden &amp; Pets</td>\n",
       "      <td>Storage &amp; Accessories</td>\n",
       "      <td>Mastercook</td>\n",
       "      <td>180.0</td>\n",
       "      <td>180.0</td>\n",
       "      <td>Water &amp; Fridge Bottles</td>\n",
       "      <td>2.3</td>\n",
       "      <td>Each product is microwave safe (without lid), ...</td>\n",
       "    </tr>\n",
       "    <tr>\n",
       "      <th>2</th>\n",
       "      <td>3</td>\n",
       "      <td>Brass Angle Deep - Plain, No.2</td>\n",
       "      <td>Cleaning &amp; Household</td>\n",
       "      <td>Pooja Needs</td>\n",
       "      <td>Trm</td>\n",
       "      <td>119.0</td>\n",
       "      <td>250.0</td>\n",
       "      <td>Lamp &amp; Lamp Oil</td>\n",
       "      <td>3.4</td>\n",
       "      <td>A perfect gift for all occasions, be it your m...</td>\n",
       "    </tr>\n",
       "  </tbody>\n",
       "</table>\n",
       "</div>"
      ],
      "text/plain": [
       "   index                                 product                category  \\\n",
       "0      1  Garlic Oil - Vegetarian Capsule 500 mg        Beauty & Hygiene   \n",
       "1      2                   Water Bottle - Orange  Kitchen, Garden & Pets   \n",
       "2      3          Brass Angle Deep - Plain, No.2    Cleaning & Household   \n",
       "\n",
       "            sub_category              brand  sale_price  market_price  \\\n",
       "0              Hair Care  Sri Sri Ayurveda        220.0         220.0   \n",
       "1  Storage & Accessories         Mastercook       180.0         180.0   \n",
       "2            Pooja Needs                Trm       119.0         250.0   \n",
       "\n",
       "                     type  rating  \\\n",
       "0        Hair Oil & Serum     4.1   \n",
       "1  Water & Fridge Bottles     2.3   \n",
       "2         Lamp & Lamp Oil     3.4   \n",
       "\n",
       "                                         description  \n",
       "0  This Product contains Garlic Oil that is known...  \n",
       "1  Each product is microwave safe (without lid), ...  \n",
       "2  A perfect gift for all occasions, be it your m...  "
      ]
     },
     "execution_count": 7,
     "metadata": {},
     "output_type": "execute_result"
    }
   ],
   "source": [
    "data = pd.read_csv(\"products.csv\")\n",
    "data.head(3)"
   ]
  },
  {
   "cell_type": "code",
   "execution_count": 8,
   "id": "4998c602-e84b-4996-a81f-279bb38d3f98",
   "metadata": {},
   "outputs": [],
   "source": [
    "columns_to_combine = ['product', 'category', 'description']\n",
    "for column in columns_to_combine:\n",
    "    data[column] = data[column].fillna('')"
   ]
  },
  {
   "cell_type": "code",
   "execution_count": 9,
   "id": "c94a4daa-8b03-4f30-84db-3db7a3140ebb",
   "metadata": {},
   "outputs": [
    {
     "data": {
      "text/plain": [
       "0    Garlic Oil - Vegetarian Capsule 500 mg Beauty ...\n",
       "1    Water Bottle - Orange Kitchen, Garden & Pets E...\n",
       "2    Brass Angle Deep - Plain, No.2 Cleaning & Hous...\n",
       "Name: combined_features, dtype: object"
      ]
     },
     "execution_count": 9,
     "metadata": {},
     "output_type": "execute_result"
    }
   ],
   "source": [
    "data['combined_features'] = data['product'] + \" \" + data['category'] + \" \" + data['description']\n",
    "data['combined_features'].head(3)"
   ]
  },
  {
   "cell_type": "code",
   "execution_count": 10,
   "id": "f116f3d3-a225-4fac-b50b-f3c5b1692de5",
   "metadata": {},
   "outputs": [
    {
     "data": {
      "text/plain": [
       "np.int64(0)"
      ]
     },
     "execution_count": 10,
     "metadata": {},
     "output_type": "execute_result"
    }
   ],
   "source": [
    "data['combined_features'].isnull().sum()"
   ]
  },
  {
   "cell_type": "code",
   "execution_count": 11,
   "id": "8f8aa7b9-c089-4cc4-8a76-88bb17d42406",
   "metadata": {},
   "outputs": [],
   "source": [
    "vectorizer = TfidfVectorizer(stop_words='english')\n",
    "tfidf_matrix = vectorizer.fit_transform(data['combined_features'])"
   ]
  },
  {
   "cell_type": "code",
   "execution_count": 12,
   "id": "08a2ae22-2b9c-43a8-9040-137beb6afb0c",
   "metadata": {},
   "outputs": [],
   "source": [
    "def get_recommendations(user_input):\n",
    "    user_query_vector = vectorizer.transform([user_input])\n",
    "\n",
    "    similarities = cosine_similarity(user_query_vector, tfidf_matrix).flatten()\n",
    "    \n",
    "    top_indices = similarities.argsort()[-5:][::-1]\n",
    "    \n",
    "    return data.iloc[top_indices][['product', 'sale_price']]\n"
   ]
  },
  {
   "cell_type": "code",
   "execution_count": 13,
   "id": "2b3a4fc9-a30d-4fdc-ba57-4871a63d5dd1",
   "metadata": {},
   "outputs": [
    {
     "data": {
      "text/html": [
       "<div>\n",
       "<style scoped>\n",
       "    .dataframe tbody tr th:only-of-type {\n",
       "        vertical-align: middle;\n",
       "    }\n",
       "\n",
       "    .dataframe tbody tr th {\n",
       "        vertical-align: top;\n",
       "    }\n",
       "\n",
       "    .dataframe thead th {\n",
       "        text-align: right;\n",
       "    }\n",
       "</style>\n",
       "<table border=\"1\" class=\"dataframe\">\n",
       "  <thead>\n",
       "    <tr style=\"text-align: right;\">\n",
       "      <th></th>\n",
       "      <th>product</th>\n",
       "      <th>sale_price</th>\n",
       "    </tr>\n",
       "  </thead>\n",
       "  <tbody>\n",
       "    <tr>\n",
       "      <th>17170</th>\n",
       "      <td>Charcoal Charmers Gift Box</td>\n",
       "      <td>1470.00</td>\n",
       "    </tr>\n",
       "    <tr>\n",
       "      <th>24883</th>\n",
       "      <td>Mom's Magic Cookies - Cashew &amp; Almond</td>\n",
       "      <td>91.35</td>\n",
       "    </tr>\n",
       "    <tr>\n",
       "      <th>26027</th>\n",
       "      <td>Chinese Fried Rice</td>\n",
       "      <td>65.00</td>\n",
       "    </tr>\n",
       "    <tr>\n",
       "      <th>11009</th>\n",
       "      <td>Brass Deepa Matki - Round, No.1</td>\n",
       "      <td>239.00</td>\n",
       "    </tr>\n",
       "    <tr>\n",
       "      <th>17476</th>\n",
       "      <td>Brass Deepa Matki - Round, No.2</td>\n",
       "      <td>285.00</td>\n",
       "    </tr>\n",
       "  </tbody>\n",
       "</table>\n",
       "</div>"
      ],
      "text/plain": [
       "                                     product  sale_price\n",
       "17170             Charcoal Charmers Gift Box     1470.00\n",
       "24883  Mom's Magic Cookies - Cashew & Almond       91.35\n",
       "26027                     Chinese Fried Rice       65.00\n",
       "11009        Brass Deepa Matki - Round, No.1      239.00\n",
       "17476        Brass Deepa Matki - Round, No.2      285.00"
      ]
     },
     "execution_count": 13,
     "metadata": {},
     "output_type": "execute_result"
    }
   ],
   "source": [
    "user_input = \"gift for mom, New Year's decor\"\n",
    "recommendations = get_recommendations(user_input)\n",
    "recommendations"
   ]
  },
  {
   "cell_type": "code",
   "execution_count": 17,
   "id": "7154be64-8416-4f3a-9691-75d478262cd9",
   "metadata": {},
   "outputs": [],
   "source": [
    "openai.api_key = 'API key'"
   ]
  },
  {
   "cell_type": "code",
   "execution_count": 15,
   "id": "5670bba3-8727-406f-963a-17f9d9555d11",
   "metadata": {},
   "outputs": [],
   "source": [
    "import time\n",
    "\n",
    "def generate_gift_description(product_name, recipient):\n",
    "    prompt = f\"Suggest a gift based on the product {product_name} for {recipient}.\"\n",
    "    \n",
    "    try:\n",
    "        response = openai.ChatCompletion.create(\n",
    "            model=\"gpt-3.5-turbo\",\n",
    "            messages=[{\"role\": \"system\", \"content\": \"You are a helpful assistant.\"},\n",
    "                      {\"role\": \"user\", \"content\": prompt}],\n",
    "            max_tokens=50\n",
    "        )\n",
    "        return response['choices'][0]['message']['content'].strip()\n",
    "    except openai.error.RateLimitError:\n",
    "        print(\"Rate limit exceeded. Waiting...\")\n",
    "        time.sleep(10)\n",
    "        return generate_gift_description(product_name, recipient)\n",
    "\n"
   ]
  },
  {
   "cell_type": "code",
   "execution_count": null,
   "id": "d1744bd2-f046-4d7b-bdc1-dd589f3e2da5",
   "metadata": {},
   "outputs": [
    {
     "name": "stdout",
     "output_type": "stream",
     "text": [
      "Rate limit exceeded. Waiting...\n",
      "Rate limit exceeded. Waiting...\n",
      "Rate limit exceeded. Waiting...\n"
     ]
    }
   ],
   "source": [
    "#example\n",
    "gift_description = generate_gift_description( \"New Year's decor\", \"mom\")\n",
    "gift_description"
   ]
  },
  {
   "cell_type": "code",
   "execution_count": null,
   "id": "212d45c1-64a6-48ce-ab60-ac4f8edcd0bd",
   "metadata": {},
   "outputs": [],
   "source": [
    "from flask import Flask, request, jsonify\n",
    "\n",
    "app = Flask(__name__)\n",
    "\n",
    "@app.route('/recommend', methods=['POST'])\n",
    "def recommend():\n",
    "    user_query = request.json.get('query')\n",
    "    recommendations = get_recommendations(user_query)\n",
    "    return jsonify(recommendations.to_dict(orient='records'))\n",
    "\n",
    "@app.route('/generate_description', methods=['POST'])\n",
    "def generate_description():\n",
    "    product_name = request.json.get('product_name')\n",
    "    recipient = request.json.get('recipient')\n",
    "    description = generate_gift_description(product_name, recipient)\n",
    "    return jsonify({'description': description})\n",
    "\n",
    "if __name__ == '__main__':\n",
    "    app.run(debug=True)\n"
   ]
  }
 ],
 "metadata": {
  "kernelspec": {
   "display_name": "Python 3 (ipykernel)",
   "language": "python",
   "name": "python3"
  },
  "language_info": {
   "codemirror_mode": {
    "name": "ipython",
    "version": 3
   },
   "file_extension": ".py",
   "mimetype": "text/x-python",
   "name": "python",
   "nbconvert_exporter": "python",
   "pygments_lexer": "ipython3",
   "version": "3.12.1"
  }
 },
 "nbformat": 4,
 "nbformat_minor": 5
}
